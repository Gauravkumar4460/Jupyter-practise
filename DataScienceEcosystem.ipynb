{
 "cells": [
  {
   "cell_type": "markdown",
   "id": "ac95521c",
   "metadata": {},
   "source": [
    "# Data Science Tools and Ecosystem"
   ]
  },
  {
   "cell_type": "markdown",
   "id": "b4dcf280",
   "metadata": {},
   "source": [
    "## In this notebook, Data Science Tools and Ecosystem are summarised."
   ]
  },
  {
   "cell_type": "markdown",
   "id": "fde5f568",
   "metadata": {},
   "source": [
    "### some of the popular that Data scientists use are: \n",
    "1.Python<br>\n",
    "2.R<br>\n",
    "3.Sql"
   ]
  },
  {
   "cell_type": "markdown",
   "id": "aaf6fa6b",
   "metadata": {},
   "source": [
    "### some of the commonly used by Data scientists include:\n",
    "1. Numpy<br>\n",
    "2. Pandas<br>\n",
    "3. Seaborn"
   ]
  },
  {
   "cell_type": "markdown",
   "id": "ad0bf72c",
   "metadata": {},
   "source": [
    "|Data Science Tools|\n",
    "----------------------------\n",
    "|Jupyter Notebook|\n",
    "|Microsoft Visual code|\n",
    "|Google colab|"
   ]
  },
  {
   "cell_type": "markdown",
   "id": "9f2b83eb",
   "metadata": {},
   "source": [
    "### Below are a few examples of evaluating arithmetic expressions in Python."
   ]
  },
  {
   "cell_type": "code",
   "execution_count": 3,
   "id": "09e654ee",
   "metadata": {},
   "outputs": [
    {
     "data": {
      "text/plain": [
       "17"
      ]
     },
     "execution_count": 3,
     "metadata": {},
     "output_type": "execute_result"
    }
   ],
   "source": [
    "(3*4)+5\n",
    "# This is simple aithmetic expression to multiply then add integers"
   ]
  },
  {
   "cell_type": "code",
   "execution_count": 5,
   "id": "5b3b03c1",
   "metadata": {},
   "outputs": [
    {
     "name": "stdout",
     "output_type": "stream",
     "text": [
      "3.3333333333333335\n"
     ]
    }
   ],
   "source": [
    "minutes = 200 \n",
    "hours = minutes/60\n",
    "print(hours)"
   ]
  },
  {
   "cell_type": "markdown",
   "id": "56af5d70",
   "metadata": {},
   "source": [
    "# Objectives: \n",
    "- Python\n",
    "- R\n",
    "- Sql\n",
    "- Scala\n",
    "- Julia"
   ]
  },
  {
   "cell_type": "markdown",
   "id": "0f783076",
   "metadata": {},
   "source": [
    "## Author\n",
    "Gaurav kumar"
   ]
  }
 ],
 "metadata": {
  "kernelspec": {
   "display_name": "Python 3 (ipykernel)",
   "language": "python",
   "name": "python3"
  },
  "language_info": {
   "codemirror_mode": {
    "name": "ipython",
    "version": 3
   },
   "file_extension": ".py",
   "mimetype": "text/x-python",
   "name": "python",
   "nbconvert_exporter": "python",
   "pygments_lexer": "ipython3",
   "version": "3.11.5"
  }
 },
 "nbformat": 4,
 "nbformat_minor": 5
}
